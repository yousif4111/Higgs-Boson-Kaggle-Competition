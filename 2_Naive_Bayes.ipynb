{
  "nbformat": 4,
  "nbformat_minor": 0,
  "metadata": {
    "colab": {
      "name": "2_Naive Bayes.ipynb",
      "provenance": []
    },
    "kernelspec": {
      "name": "ir",
      "display_name": "R"
    },
    "language_info": {
      "name": "R"
    }
  },
  "cells": [
    {
      "cell_type": "markdown",
      "metadata": {
        "id": "xtjsAAC-XebY"
      },
      "source": [
        "# Naive Bayes"
      ]
    },
    {
      "cell_type": "markdown",
      "metadata": {
        "id": "OFfRWSyFZA90"
      },
      "source": [
        "**This notebook aims to develop Naive Bayes classifier using R, and evaluate the it's performance**"
      ]
    },
    {
      "cell_type": "code",
      "metadata": {
        "colab": {
          "base_uri": "https://localhost:8080/"
        },
        "id": "jedilfOkZXlL",
        "outputId": "53c50f93-a998-49a5-86d1-32de6285d040"
      },
      "source": [
        "if(!require(psych)) install.packages('psych')\n",
        "if(!require(e1071)) install.packages('e1071')\n",
        "if(!require(caret)) install.packages('caret')"
      ],
      "execution_count": 2,
      "outputs": [
        {
          "output_type": "stream",
          "name": "stderr",
          "text": [
            "Loading required package: psych\n",
            "\n",
            "Loading required package: e1071\n",
            "\n",
            "Loading required package: caret\n",
            "\n",
            "Loading required package: lattice\n",
            "\n",
            "Loading required package: ggplot2\n",
            "\n",
            "\n",
            "Attaching package: ‘ggplot2’\n",
            "\n",
            "\n",
            "The following objects are masked from ‘package:psych’:\n",
            "\n",
            "    %+%, alpha\n",
            "\n",
            "\n",
            "Warning message in system(\"timedatectl\", intern = TRUE):\n",
            "“running command 'timedatectl' had status 1”\n"
          ]
        }
      ]
    },
    {
      "cell_type": "code",
      "metadata": {
        "colab": {
          "base_uri": "https://localhost:8080/",
          "height": 35
        },
        "id": "uRNqEIwscsd9",
        "outputId": "d96f5efd-ac30-4026-a69f-9aea094a8581"
      },
      "source": [
        ""
      ],
      "execution_count": 5,
      "outputs": [
        {
          "output_type": "display_data",
          "data": {
            "text/plain": [
              "NULL"
            ]
          },
          "metadata": {}
        }
      ]
    },
    {
      "cell_type": "code",
      "metadata": {
        "id": "E44QG_j7aXoJ"
      },
      "source": [
        "# Data imported to R\n",
        "training_outliers <- read.csv(\"train_keep_outlier.csv\")\n",
        "training_no_outliers <- read.csv(\"train_remove_outlier.csv\")\n",
        "testing_outliers <- read.csv(\"train_keep_outlier.csv\")\n",
        "testing_no_outliers <- read.csv(\"train_remove_outlier.csv\")\n",
        "\n"
      ],
      "execution_count": 36,
      "outputs": []
    },
    {
      "cell_type": "code",
      "metadata": {
        "id": "aIcuuJV8gKF_"
      },
      "source": [
        "# Define a categorical class variable since naive Bayes ML requires categorical variables as the target,\n",
        "training_outliers$output <- as.factor(training_outliers$output)\n",
        "training_outliers$output <-as.factor(training_outliers$output)\n",
        "testing_outliers$output<-as.factor(testing_outliers$output)\n",
        "testing_no_outliers$df.output<-as.factor(testing_no_outliers$df.output)\n",
        "\n"
      ],
      "execution_count": 37,
      "outputs": []
    },
    {
      "cell_type": "code",
      "metadata": {
        "id": "2dGMtsPAd2q-"
      },
      "source": [
        "# Combining train & test data, (try & error attempt on model’s tuning)\n",
        "combine_outliers <- rbind(testing_outliers, training_outliers)\n",
        "combine_no_outliers <- rbind(testing_no_outliers, training_no_outliers)"
      ],
      "execution_count": 38,
      "outputs": []
    },
    {
      "cell_type": "markdown",
      "metadata": {
        "id": "q4tBEbp-j6j4"
      },
      "source": [
        ""
      ]
    },
    {
      "cell_type": "code",
      "metadata": {
        "colab": {
          "base_uri": "https://localhost:8080/"
        },
        "id": "ttqthuQkkI8g",
        "outputId": "796303c5-3bf8-49d0-d52d-32795f47d74d"
      },
      "source": [
        "install.packages(c(\"caret\", \"recipes\", \"klaR\", \"ipred\"))\n"
      ],
      "execution_count": 42,
      "outputs": [
        {
          "output_type": "stream",
          "name": "stderr",
          "text": [
            "Installing packages into ‘/usr/local/lib/R/site-library’\n",
            "(as ‘lib’ is unspecified)\n",
            "\n",
            "also installing the dependencies ‘sass’, ‘jquerylib’, ‘R.methodsS3’, ‘R.oo’, ‘R.utils’, ‘httpuv’, ‘xtable’, ‘sourcetools’, ‘later’, ‘promises’, ‘bslib’, ‘R.cache’, ‘shiny’, ‘miniUI’, ‘styler’, ‘classInt’, ‘labelled’, ‘combinat’, ‘questionr’\n",
            "\n",
            "\n"
          ]
        }
      ]
    },
    {
      "cell_type": "code",
      "metadata": {
        "id": "XWDHDR2Nr06n"
      },
      "source": [
        "set.seed(1000)\n",
        "train_control <- trainControl(method=\"repeatedcv\", number=10, repeats=1) \n",
        "model <- train(output~., data=training_outliers, trControl=train_control, method=\"nb\") \n",
        "print(model)\n"
      ],
      "execution_count": null,
      "outputs": []
    },
    {
      "cell_type": "markdown",
      "metadata": {
        "id": "H8KOhEivsMEt"
      },
      "source": [
        "![image.png](data:image/png;base64,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)\n"
      ]
    },
    {
      "cell_type": "markdown",
      "metadata": {
        "id": "WN-mPH_Dsi14"
      },
      "source": [
        "## Confusion Matrix\n",
        "![image.png](data:image/png;base64,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)"
      ]
    },
    {
      "cell_type": "markdown",
      "metadata": {
        "id": "rN1LqCqgsv-N"
      },
      "source": [
        "### Results from all of the model’s predictions are as follow\n",
        "![image.png](data:image/png;base64,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)"
      ]
    },
    {
      "cell_type": "markdown",
      "metadata": {
        "id": "OeXrIkPQs5mP"
      },
      "source": [
        "## Findings\n",
        "noted that there is improvement observed on all of the properties listed above for both train & test datasets from the inclusion of the outliers and after the removal,\n",
        "\n",
        "•\tAccuracy increased & Error rate decreased by about 3% respectively with the outliers removed\n",
        "\n",
        "•\tThe model’s capability of predicting the accurate outcomes are also increased with the outliers removed, with the parameters shown above (i.e. sensitivity & specificity)\n"
      ]
    },
    {
      "cell_type": "markdown",
      "metadata": {
        "id": "tinGE21GtAn0"
      },
      "source": [
        "## Conclusion:\n",
        "Naive Bayes model performed better with the outliers removed for our datasets on predicting the signal outcomes. (i.e. Accuracy rate ~64%)\n"
      ]
    }
  ]
}