{
  "nbformat": 4,
  "nbformat_minor": 0,
  "metadata": {
    "colab": {
      "name": "3_Logistic_Regression .ipynb",
      "provenance": []
    },
    "kernelspec": {
      "name": "ir",
      "display_name": "R"
    },
    "language_info": {
      "name": "R"
    }
  },
  "cells": [
    {
      "cell_type": "markdown",
      "metadata": {
        "id": "N21KpaZyt9c0"
      },
      "source": [
        "# Logistic Regression \n",
        "Logistic regression is a supervised learning classification algorithm used to predict the probability of a target variable.\n",
        "\n",
        "***This notebook is Logistic Regression implementation in R language to build logistic regression classifier***\n"
      ]
    },
    {
      "cell_type": "code",
      "metadata": {
        "id": "6fjPsU_it5NT"
      },
      "source": [
        "# Importing Data \n",
        "train_keep_outlier <- read.csv(\"train_keep_outlier.csv\")\n",
        "test_keep_outlier <- read.csv(\"test_keep_outlier.csv\")\n",
        "oos_keep_outlier <- read.csv(\"oos_keep_outlier.csv\")\n",
        "train_remove_outlier <- read.csv(\"train_remove_outlier.csv\")\n",
        "test_remove_outlier <- read.csv(\"test_remove_outlier.csv\")\n",
        "oos_remove_outlier <- read.csv(\"oos_remove_outlier.csv\")\n"
      ],
      "execution_count": 1,
      "outputs": []
    },
    {
      "cell_type": "code",
      "metadata": {
        "id": "nn7ChqRButNB"
      },
      "source": [
        "#Set factor column in the datasets\n",
        "train_remove_outlier$df.output<- factor(train_remove_outlier$df.output)\n",
        "test_remove_outlier$df.output<- factor(test_remove_outlier$df.output)\n",
        "oos_remove_outlier$df.output<-factor(oos_remove_outlier$df.output)\n"
      ],
      "execution_count": 3,
      "outputs": []
    },
    {
      "cell_type": "code",
      "metadata": {
        "colab": {
          "base_uri": "https://localhost:8080/",
          "height": 906
        },
        "id": "dew9EoTAu_Lf",
        "outputId": "6e25b065-114a-4bb7-b891-1967d4a773ee"
      },
      "source": [
        "# Training the model \n",
        "\n",
        "log.model1<-glm (formula = df.output~., family = binomial (link =\"logit\"), data = train_remove_outlier) \n",
        "summary(log.model1)\n"
      ],
      "execution_count": 6,
      "outputs": [
        {
          "output_type": "display_data",
          "data": {
            "text/plain": [
              "\n",
              "Call:\n",
              "glm(formula = df.output ~ ., family = binomial(link = \"logit\"), \n",
              "    data = train_remove_outlier)\n",
              "\n",
              "Deviance Residuals: \n",
              "    Min       1Q   Median       3Q      Max  \n",
              "-2.1984  -1.1528   0.7451   1.0421   2.8199  \n",
              "\n",
              "Coefficients:\n",
              "                          Estimate Std. Error z value Pr(>|z|)    \n",
              "(Intercept)               1.194583   0.100044  11.941  < 2e-16 ***\n",
              "lepton_pT                -0.261077   0.015216 -17.158  < 2e-16 ***\n",
              "lepton_eta               -0.057761   0.014710  -3.927 8.61e-05 ***\n",
              "lepton_phi                0.018622   0.020217   0.921  0.35700    \n",
              "missing_energy_magnitude -0.265725   0.015104 -17.593  < 2e-16 ***\n",
              "missing_energy_phi        0.014653   0.019541   0.750  0.45335    \n",
              "jet1pt                    0.104691   0.017060   6.137 8.43e-10 ***\n",
              "jet1eta                  -0.039123   0.014214  -2.752  0.00592 ** \n",
              "jet1phi                  -0.004102   0.024000  -0.171  0.86430    \n",
              "jet1b.tag                -0.008025   0.027733  -0.289  0.77230    \n",
              "jet2pt                    0.187030   0.016848  11.101  < 2e-16 ***\n",
              "jet2eta                  -0.085921   0.013976  -6.148 7.86e-10 ***\n",
              "jet2phi                   0.004526   0.021240   0.213  0.83125    \n",
              "jet2b.tag                -0.076605   0.028652  -2.674  0.00750 ** \n",
              "jet3pt                    0.143361   0.015850   9.045  < 2e-16 ***\n",
              "jet3eta                  -0.085077   0.014294  -5.952 2.65e-09 ***\n",
              "jet3phi                   0.001818   0.019499   0.093  0.92570    \n",
              "jet3b.tag                -0.161903   0.028756  -5.630 1.80e-08 ***\n",
              "jet4pt                    0.072285   0.015146   4.773 1.82e-06 ***\n",
              "jet4eta                  -0.116573   0.014809  -7.872 3.50e-15 ***\n",
              "jet4phi                   0.024700   0.018488   1.336  0.18156    \n",
              "jet4b.tag                -0.041680   0.022680  -1.838  0.06610 .  \n",
              "m_jj                     -0.231451   0.020898 -11.075  < 2e-16 ***\n",
              "m_jjj                     0.568260   0.023185  24.509  < 2e-16 ***\n",
              "m_lv                      0.083953   0.016577   5.065 4.09e-07 ***\n",
              "m_jlv                     0.318224   0.017477  18.208  < 2e-16 ***\n",
              "m_bb                     -0.897927   0.017681 -50.786  < 2e-16 ***\n",
              "m_wbb                    -0.530348   0.028800 -18.415  < 2e-16 ***\n",
              "m_wwbb                   -0.085759   0.026323  -3.258  0.00112 ** \n",
              "---\n",
              "Signif. codes:  0 ‘***’ 0.001 ‘**’ 0.01 ‘*’ 0.05 ‘.’ 0.1 ‘ ’ 1\n",
              "\n",
              "(Dispersion parameter for binomial family taken to be 1)\n",
              "\n",
              "    Null deviance: 88624  on 64111  degrees of freedom\n",
              "Residual deviance: 82454  on 64083  degrees of freedom\n",
              "AIC: 82512\n",
              "\n",
              "Number of Fisher Scoring iterations: 4\n"
            ]
          },
          "metadata": {}
        }
      ]
    },
    {
      "cell_type": "code",
      "metadata": {
        "colab": {
          "base_uri": "https://localhost:8080/",
          "height": 906
        },
        "id": "vx79QaLfvGfP",
        "outputId": "ba09fdb8-8393-4f4a-e3e9-644e6d41f2c3"
      },
      "source": [
        "# Predicting using test data, rerun the model\n",
        "test.log.model1<-glm (formula = df.output~., family = binomial (link =\"logit\"), data = train_remove_outlier) \n",
        "summary(test.log.model1)\n"
      ],
      "execution_count": 9,
      "outputs": [
        {
          "output_type": "display_data",
          "data": {
            "text/plain": [
              "\n",
              "Call:\n",
              "glm(formula = df.output ~ ., family = binomial(link = \"logit\"), \n",
              "    data = train_remove_outlier)\n",
              "\n",
              "Deviance Residuals: \n",
              "    Min       1Q   Median       3Q      Max  \n",
              "-2.1984  -1.1528   0.7451   1.0421   2.8199  \n",
              "\n",
              "Coefficients:\n",
              "                          Estimate Std. Error z value Pr(>|z|)    \n",
              "(Intercept)               1.194583   0.100044  11.941  < 2e-16 ***\n",
              "lepton_pT                -0.261077   0.015216 -17.158  < 2e-16 ***\n",
              "lepton_eta               -0.057761   0.014710  -3.927 8.61e-05 ***\n",
              "lepton_phi                0.018622   0.020217   0.921  0.35700    \n",
              "missing_energy_magnitude -0.265725   0.015104 -17.593  < 2e-16 ***\n",
              "missing_energy_phi        0.014653   0.019541   0.750  0.45335    \n",
              "jet1pt                    0.104691   0.017060   6.137 8.43e-10 ***\n",
              "jet1eta                  -0.039123   0.014214  -2.752  0.00592 ** \n",
              "jet1phi                  -0.004102   0.024000  -0.171  0.86430    \n",
              "jet1b.tag                -0.008025   0.027733  -0.289  0.77230    \n",
              "jet2pt                    0.187030   0.016848  11.101  < 2e-16 ***\n",
              "jet2eta                  -0.085921   0.013976  -6.148 7.86e-10 ***\n",
              "jet2phi                   0.004526   0.021240   0.213  0.83125    \n",
              "jet2b.tag                -0.076605   0.028652  -2.674  0.00750 ** \n",
              "jet3pt                    0.143361   0.015850   9.045  < 2e-16 ***\n",
              "jet3eta                  -0.085077   0.014294  -5.952 2.65e-09 ***\n",
              "jet3phi                   0.001818   0.019499   0.093  0.92570    \n",
              "jet3b.tag                -0.161903   0.028756  -5.630 1.80e-08 ***\n",
              "jet4pt                    0.072285   0.015146   4.773 1.82e-06 ***\n",
              "jet4eta                  -0.116573   0.014809  -7.872 3.50e-15 ***\n",
              "jet4phi                   0.024700   0.018488   1.336  0.18156    \n",
              "jet4b.tag                -0.041680   0.022680  -1.838  0.06610 .  \n",
              "m_jj                     -0.231451   0.020898 -11.075  < 2e-16 ***\n",
              "m_jjj                     0.568260   0.023185  24.509  < 2e-16 ***\n",
              "m_lv                      0.083953   0.016577   5.065 4.09e-07 ***\n",
              "m_jlv                     0.318224   0.017477  18.208  < 2e-16 ***\n",
              "m_bb                     -0.897927   0.017681 -50.786  < 2e-16 ***\n",
              "m_wbb                    -0.530348   0.028800 -18.415  < 2e-16 ***\n",
              "m_wwbb                   -0.085759   0.026323  -3.258  0.00112 ** \n",
              "---\n",
              "Signif. codes:  0 ‘***’ 0.001 ‘**’ 0.01 ‘*’ 0.05 ‘.’ 0.1 ‘ ’ 1\n",
              "\n",
              "(Dispersion parameter for binomial family taken to be 1)\n",
              "\n",
              "    Null deviance: 88624  on 64111  degrees of freedom\n",
              "Residual deviance: 82454  on 64083  degrees of freedom\n",
              "AIC: 82512\n",
              "\n",
              "Number of Fisher Scoring iterations: 4\n"
            ]
          },
          "metadata": {}
        }
      ]
    },
    {
      "cell_type": "code",
      "metadata": {
        "colab": {
          "base_uri": "https://localhost:8080/"
        },
        "id": "mfC_UfcVvPok",
        "outputId": "81418e5e-5059-462b-e266-f5d6a0a849d1"
      },
      "source": [
        "# Checking on prediction accuracy\n",
        "fitted.probabilites1<-predict(test.log.model1,newdata=test_remove_outlier,type =\"response\")\n",
        "fitted.results1<-ifelse(fitted.probabilites1>0.5,1,0)\n",
        "misClasificError1<-mean(fitted.results1!=test_remove_outlier$df.output)\n",
        "print(paste (\"Accuracy\",1-misClasificError1))\n"
      ],
      "execution_count": 22,
      "outputs": [
        {
          "output_type": "stream",
          "name": "stdout",
          "text": [
            "[1] \"Accuracy 0.62466213748265\"\n"
          ]
        }
      ]
    },
    {
      "cell_type": "code",
      "metadata": {
        "colab": {
          "base_uri": "https://localhost:8080/",
          "height": 88
        },
        "id": "rCKa8SNgvXge",
        "outputId": "df524fb7-2101-4b2e-9e27-6db2aff8e5b5"
      },
      "source": [
        "# Table of model output\n",
        "table(test_remove_outlier$df.output, fitted.probabilites1>0.5)"
      ],
      "execution_count": 23,
      "outputs": [
        {
          "output_type": "display_data",
          "data": {
            "text/plain": [
              "   \n",
              "    FALSE TRUE\n",
              "  0  3242 3183\n",
              "  1  1955 5309"
            ]
          },
          "metadata": {}
        }
      ]
    },
    {
      "cell_type": "markdown",
      "metadata": {
        "id": "u5Wam-BLxNDU"
      },
      "source": [
        "# Result\n",
        "\n",
        "![image.png](data:image/png;base64,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)"
      ]
    },
    {
      "cell_type": "markdown",
      "metadata": {
        "id": "DNIKUI_RxY8k"
      },
      "source": [
        "# Conclusion: \n",
        "\n",
        "Logistic regression model performed better with the train data without outlier on predicting the signal outcomes with the ***accuracy of 64.55%***"
      ]
    }
  ]
}